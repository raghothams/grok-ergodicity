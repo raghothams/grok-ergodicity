{
 "cells": [
  {
   "cell_type": "code",
   "execution_count": 1,
   "metadata": {},
   "outputs": [],
   "source": [
    "import numpy as np\n",
    "import pandas as pd\n",
    "import seaborn as sns\n",
    "\n",
    "%matplotlib inline"
   ]
  },
  {
   "cell_type": "code",
   "execution_count": 2,
   "metadata": {},
   "outputs": [],
   "source": [
    "import yfinance as yf"
   ]
  },
  {
   "cell_type": "code",
   "execution_count": 3,
   "metadata": {},
   "outputs": [],
   "source": [
    "np.random.seed(10)"
   ]
  },
  {
   "cell_type": "code",
   "execution_count": 4,
   "metadata": {},
   "outputs": [],
   "source": [
    "initial_amount = 1000\n",
    "gain_pct = 0.5\n",
    "loss_pct = 0.4\n",
    "leverage = 0.25\n",
    "\n",
    "# num of time steps\n",
    "t_N = 60\n",
    "\n",
    "# num of people\n",
    "p_N = 100000"
   ]
  },
  {
   "cell_type": "code",
   "execution_count": 5,
   "metadata": {},
   "outputs": [
    {
     "name": "stdout",
     "output_type": "stream",
     "text": [
      "CPU times: user 6.66 s, sys: 160 ms, total: 6.82 s\n",
      "Wall time: 6.92 s\n"
     ]
    }
   ],
   "source": [
    "%%time\n",
    "\n",
    "evt_data = {}\n",
    "gain_data = {}\n",
    "\n",
    "# generate data for every person\n",
    "for i in range(p_N):\n",
    "    # start with initial amount as leverage\n",
    "    person_gain = initial_amount\n",
    "    \n",
    "    # generate random events of gain / loss for N time steps\n",
    "    evts = np.random.randint(0,2, t_N)\n",
    "    \n",
    "    # temp state store for interim gains\n",
    "    gains = []\n",
    "    \n",
    "    # calc gain progression\n",
    "    for e in evts:\n",
    "        if e == 0:\n",
    "            person_gain = (person_gain * (1 - leverage)) + (person_gain * leverage * (1 - loss_pct))\n",
    "        else:\n",
    "            person_gain = (person_gain * (1 - leverage)) + (person_gain * leverage * (1 + gain_pct))\n",
    "        \n",
    "        gains.append(person_gain)\n",
    "\n",
    "#         print(person_gain, e)\n",
    "        \n",
    "    # append gain data - events, gain progression, to a dictionary\n",
    "    evt_data[f\"p_evt_{i+1}\"] = evts\n",
    "    gain_data[f\"p_gain_{i+1}\"] = gains"
   ]
  },
  {
   "cell_type": "code",
   "execution_count": 6,
   "metadata": {},
   "outputs": [],
   "source": [
    "# df_evt = pd.DataFrame(evt_data)\n",
    "df_gain = pd.DataFrame(gain_data)"
   ]
  },
  {
   "cell_type": "code",
   "execution_count": 7,
   "metadata": {},
   "outputs": [
    {
     "data": {
      "text/html": [
       "<div>\n",
       "<style scoped>\n",
       "    .dataframe tbody tr th:only-of-type {\n",
       "        vertical-align: middle;\n",
       "    }\n",
       "\n",
       "    .dataframe tbody tr th {\n",
       "        vertical-align: top;\n",
       "    }\n",
       "\n",
       "    .dataframe thead th {\n",
       "        text-align: right;\n",
       "    }\n",
       "</style>\n",
       "<table border=\"1\" class=\"dataframe\">\n",
       "  <thead>\n",
       "    <tr style=\"text-align: right;\">\n",
       "      <th></th>\n",
       "      <th>p_gain_1</th>\n",
       "      <th>p_gain_2</th>\n",
       "      <th>p_gain_3</th>\n",
       "      <th>p_gain_4</th>\n",
       "      <th>p_gain_5</th>\n",
       "      <th>p_gain_6</th>\n",
       "      <th>p_gain_7</th>\n",
       "      <th>p_gain_8</th>\n",
       "      <th>p_gain_9</th>\n",
       "      <th>p_gain_10</th>\n",
       "      <th>...</th>\n",
       "      <th>p_gain_99991</th>\n",
       "      <th>p_gain_99992</th>\n",
       "      <th>p_gain_99993</th>\n",
       "      <th>p_gain_99994</th>\n",
       "      <th>p_gain_99995</th>\n",
       "      <th>p_gain_99996</th>\n",
       "      <th>p_gain_99997</th>\n",
       "      <th>p_gain_99998</th>\n",
       "      <th>p_gain_99999</th>\n",
       "      <th>p_gain_100000</th>\n",
       "    </tr>\n",
       "  </thead>\n",
       "  <tbody>\n",
       "    <tr>\n",
       "      <td>0</td>\n",
       "      <td>1125.000000</td>\n",
       "      <td>1125.000000</td>\n",
       "      <td>1125.000000</td>\n",
       "      <td>900.0000</td>\n",
       "      <td>900.00</td>\n",
       "      <td>900.0000</td>\n",
       "      <td>1125.000000</td>\n",
       "      <td>1125.000000</td>\n",
       "      <td>1125.000000</td>\n",
       "      <td>900.0000</td>\n",
       "      <td>...</td>\n",
       "      <td>900.000000</td>\n",
       "      <td>1125.000000</td>\n",
       "      <td>1125.000000</td>\n",
       "      <td>900.000000</td>\n",
       "      <td>1125.000000</td>\n",
       "      <td>900.000000</td>\n",
       "      <td>1125.000000</td>\n",
       "      <td>900.00</td>\n",
       "      <td>1125.000000</td>\n",
       "      <td>900.0000</td>\n",
       "    </tr>\n",
       "    <tr>\n",
       "      <td>1</td>\n",
       "      <td>1265.625000</td>\n",
       "      <td>1012.500000</td>\n",
       "      <td>1265.625000</td>\n",
       "      <td>810.0000</td>\n",
       "      <td>810.00</td>\n",
       "      <td>810.0000</td>\n",
       "      <td>1265.625000</td>\n",
       "      <td>1265.625000</td>\n",
       "      <td>1012.500000</td>\n",
       "      <td>810.0000</td>\n",
       "      <td>...</td>\n",
       "      <td>1012.500000</td>\n",
       "      <td>1265.625000</td>\n",
       "      <td>1012.500000</td>\n",
       "      <td>810.000000</td>\n",
       "      <td>1012.500000</td>\n",
       "      <td>810.000000</td>\n",
       "      <td>1265.625000</td>\n",
       "      <td>810.00</td>\n",
       "      <td>1012.500000</td>\n",
       "      <td>810.0000</td>\n",
       "    </tr>\n",
       "    <tr>\n",
       "      <td>2</td>\n",
       "      <td>1139.062500</td>\n",
       "      <td>911.250000</td>\n",
       "      <td>1423.828125</td>\n",
       "      <td>729.0000</td>\n",
       "      <td>729.00</td>\n",
       "      <td>729.0000</td>\n",
       "      <td>1423.828125</td>\n",
       "      <td>1139.062500</td>\n",
       "      <td>1139.062500</td>\n",
       "      <td>911.2500</td>\n",
       "      <td>...</td>\n",
       "      <td>911.250000</td>\n",
       "      <td>1139.062500</td>\n",
       "      <td>911.250000</td>\n",
       "      <td>911.250000</td>\n",
       "      <td>1139.062500</td>\n",
       "      <td>911.250000</td>\n",
       "      <td>1423.828125</td>\n",
       "      <td>729.00</td>\n",
       "      <td>1139.062500</td>\n",
       "      <td>911.2500</td>\n",
       "    </tr>\n",
       "    <tr>\n",
       "      <td>3</td>\n",
       "      <td>1281.445312</td>\n",
       "      <td>1025.156250</td>\n",
       "      <td>1281.445312</td>\n",
       "      <td>820.1250</td>\n",
       "      <td>656.10</td>\n",
       "      <td>656.1000</td>\n",
       "      <td>1601.806641</td>\n",
       "      <td>1281.445312</td>\n",
       "      <td>1025.156250</td>\n",
       "      <td>820.1250</td>\n",
       "      <td>...</td>\n",
       "      <td>820.125000</td>\n",
       "      <td>1025.156250</td>\n",
       "      <td>1025.156250</td>\n",
       "      <td>820.125000</td>\n",
       "      <td>1025.156250</td>\n",
       "      <td>820.125000</td>\n",
       "      <td>1281.445312</td>\n",
       "      <td>656.10</td>\n",
       "      <td>1281.445312</td>\n",
       "      <td>820.1250</td>\n",
       "    </tr>\n",
       "    <tr>\n",
       "      <td>4</td>\n",
       "      <td>1153.300781</td>\n",
       "      <td>922.640625</td>\n",
       "      <td>1441.625977</td>\n",
       "      <td>738.1125</td>\n",
       "      <td>590.49</td>\n",
       "      <td>738.1125</td>\n",
       "      <td>1441.625977</td>\n",
       "      <td>1441.625977</td>\n",
       "      <td>1153.300781</td>\n",
       "      <td>738.1125</td>\n",
       "      <td>...</td>\n",
       "      <td>922.640625</td>\n",
       "      <td>922.640625</td>\n",
       "      <td>922.640625</td>\n",
       "      <td>922.640625</td>\n",
       "      <td>1153.300781</td>\n",
       "      <td>922.640625</td>\n",
       "      <td>1153.300781</td>\n",
       "      <td>590.49</td>\n",
       "      <td>1153.300781</td>\n",
       "      <td>738.1125</td>\n",
       "    </tr>\n",
       "  </tbody>\n",
       "</table>\n",
       "<p>5 rows × 100000 columns</p>\n",
       "</div>"
      ],
      "text/plain": [
       "      p_gain_1     p_gain_2     p_gain_3  p_gain_4  p_gain_5  p_gain_6  \\\n",
       "0  1125.000000  1125.000000  1125.000000  900.0000    900.00  900.0000   \n",
       "1  1265.625000  1012.500000  1265.625000  810.0000    810.00  810.0000   \n",
       "2  1139.062500   911.250000  1423.828125  729.0000    729.00  729.0000   \n",
       "3  1281.445312  1025.156250  1281.445312  820.1250    656.10  656.1000   \n",
       "4  1153.300781   922.640625  1441.625977  738.1125    590.49  738.1125   \n",
       "\n",
       "      p_gain_7     p_gain_8     p_gain_9  p_gain_10  ...  p_gain_99991  \\\n",
       "0  1125.000000  1125.000000  1125.000000   900.0000  ...    900.000000   \n",
       "1  1265.625000  1265.625000  1012.500000   810.0000  ...   1012.500000   \n",
       "2  1423.828125  1139.062500  1139.062500   911.2500  ...    911.250000   \n",
       "3  1601.806641  1281.445312  1025.156250   820.1250  ...    820.125000   \n",
       "4  1441.625977  1441.625977  1153.300781   738.1125  ...    922.640625   \n",
       "\n",
       "   p_gain_99992  p_gain_99993  p_gain_99994  p_gain_99995  p_gain_99996  \\\n",
       "0   1125.000000   1125.000000    900.000000   1125.000000    900.000000   \n",
       "1   1265.625000   1012.500000    810.000000   1012.500000    810.000000   \n",
       "2   1139.062500    911.250000    911.250000   1139.062500    911.250000   \n",
       "3   1025.156250   1025.156250    820.125000   1025.156250    820.125000   \n",
       "4    922.640625    922.640625    922.640625   1153.300781    922.640625   \n",
       "\n",
       "   p_gain_99997  p_gain_99998  p_gain_99999  p_gain_100000  \n",
       "0   1125.000000        900.00   1125.000000       900.0000  \n",
       "1   1265.625000        810.00   1012.500000       810.0000  \n",
       "2   1423.828125        729.00   1139.062500       911.2500  \n",
       "3   1281.445312        656.10   1281.445312       820.1250  \n",
       "4   1153.300781        590.49   1153.300781       738.1125  \n",
       "\n",
       "[5 rows x 100000 columns]"
      ]
     },
     "execution_count": 7,
     "metadata": {},
     "output_type": "execute_result"
    }
   ],
   "source": [
    "df_gain.head()"
   ]
  },
  {
   "cell_type": "code",
   "execution_count": 8,
   "metadata": {},
   "outputs": [
    {
     "data": {
      "text/plain": [
       "mean       2098.642645\n",
       "median     1451.613360\n",
       "min          40.859284\n",
       "max       51571.666404\n",
       "Name: 59, dtype: float64"
      ]
     },
     "execution_count": 8,
     "metadata": {},
     "output_type": "execute_result"
    }
   ],
   "source": [
    "df_gain.iloc[-1].agg([\"mean\", \"median\", \"min\", \"max\"])"
   ]
  },
  {
   "cell_type": "code",
   "execution_count": 9,
   "metadata": {},
   "outputs": [
    {
     "data": {
      "text/plain": [
       "<matplotlib.axes._subplots.AxesSubplot at 0x1a2ec7fcc0>"
      ]
     },
     "execution_count": 9,
     "metadata": {},
     "output_type": "execute_result"
    },
    {
     "data": {
      "image/png": "[encoded data removed]",
      "text/plain": [
       "<Figure size 432x288 with 1 Axes>"
      ]
     },
     "metadata": {
      "needs_background": "light"
     },
     "output_type": "display_data"
    }
   ],
   "source": [
    "df_gain.iloc[-1].hist(bins=50)"
   ]
  },
  {
   "cell_type": "code",
   "execution_count": 10,
   "metadata": {},
   "outputs": [],
   "source": [
    "df_ens = pd.DataFrame()\n",
    "df_ens[\"ens_avg\"] = df_gain.apply(np.mean, axis=1)\n",
    "df_ens[\"ens_med\"] = df_gain.apply(np.median, axis=1)"
   ]
  },
  {
   "cell_type": "code",
   "execution_count": 11,
   "metadata": {},
   "outputs": [
    {
     "data": {
      "text/html": [
       "<div>\n",
       "<style scoped>\n",
       "    .dataframe tbody tr th:only-of-type {\n",
       "        vertical-align: middle;\n",
       "    }\n",
       "\n",
       "    .dataframe tbody tr th {\n",
       "        vertical-align: top;\n",
       "    }\n",
       "\n",
       "    .dataframe thead th {\n",
       "        text-align: right;\n",
       "    }\n",
       "</style>\n",
       "<table border=\"1\" class=\"dataframe\">\n",
       "  <thead>\n",
       "    <tr style=\"text-align: right;\">\n",
       "      <th></th>\n",
       "      <th>ens_avg</th>\n",
       "      <th>ens_med</th>\n",
       "    </tr>\n",
       "  </thead>\n",
       "  <tbody>\n",
       "    <tr>\n",
       "      <td>0</td>\n",
       "      <td>1012.430250</td>\n",
       "      <td>900.000000</td>\n",
       "    </tr>\n",
       "    <tr>\n",
       "      <td>1</td>\n",
       "      <td>1025.284838</td>\n",
       "      <td>1012.500000</td>\n",
       "    </tr>\n",
       "    <tr>\n",
       "      <td>2</td>\n",
       "      <td>1037.983916</td>\n",
       "      <td>1139.062500</td>\n",
       "    </tr>\n",
       "    <tr>\n",
       "      <td>3</td>\n",
       "      <td>1050.776724</td>\n",
       "      <td>1025.156250</td>\n",
       "    </tr>\n",
       "    <tr>\n",
       "      <td>4</td>\n",
       "      <td>1064.194843</td>\n",
       "      <td>922.640625</td>\n",
       "    </tr>\n",
       "  </tbody>\n",
       "</table>\n",
       "</div>"
      ],
      "text/plain": [
       "       ens_avg      ens_med\n",
       "0  1012.430250   900.000000\n",
       "1  1025.284838  1012.500000\n",
       "2  1037.983916  1139.062500\n",
       "3  1050.776724  1025.156250\n",
       "4  1064.194843   922.640625"
      ]
     },
     "execution_count": 11,
     "metadata": {},
     "output_type": "execute_result"
    }
   ],
   "source": [
    "df_ens.head()"
   ]
  },
  {
   "cell_type": "code",
   "execution_count": 12,
   "metadata": {},
   "outputs": [
    {
     "data": {
      "text/plain": [
       "<matplotlib.axes._subplots.AxesSubplot at 0x1a2b5e2400>"
      ]
     },
     "execution_count": 12,
     "metadata": {},
     "output_type": "execute_result"
    },
    {
     "data": {
      "image/png": "[encoded data removed]",
      "text/plain": [
       "<Figure size 432x288 with 1 Axes>"
      ]
     },
     "metadata": {
      "needs_background": "light"
     },
     "output_type": "display_data"
    }
   ],
   "source": [
    "sns.lineplot(x=df_ens.index, y=df_ens[\"ens_avg\"], )"
   ]
  },
  {
   "cell_type": "code",
   "execution_count": 13,
   "metadata": {},
   "outputs": [
    {
     "data": {
      "text/plain": [
       "<matplotlib.axes._subplots.AxesSubplot at 0x1a20ead400>"
      ]
     },
     "execution_count": 13,
     "metadata": {},
     "output_type": "execute_result"
    },
    {
     "data": {
      "image/png": "[encoded data removed]",
      "text/plain": [
       "<Figure size 432x288 with 1 Axes>"
      ]
     },
     "metadata": {
      "needs_background": "light"
     },
     "output_type": "display_data"
    }
   ],
   "source": [
    "sns.lineplot(x=df_gain.index, y=df_gain[\"p_gain_1\"])"
   ]
  },
  {
   "cell_type": "markdown",
   "metadata": {},
   "source": [
    "## Ensemble Average for leverage = 0.25"
   ]
  },
  {
   "cell_type": "code",
   "execution_count": 14,
   "metadata": {},
   "outputs": [
    {
     "data": {
      "text/plain": [
       "<matplotlib.axes._subplots.AxesSubplot at 0x1a2bfd1940>"
      ]
     },
     "execution_count": 14,
     "metadata": {},
     "output_type": "execute_result"
    },
    {
     "data": {
      "image/png": "[encoded data removed]",
      "text/plain": [
       "<Figure size 432x288 with 1 Axes>"
      ]
     },
     "metadata": {
      "needs_background": "light"
     },
     "output_type": "display_data"
    }
   ],
   "source": [
    "sns.lineplot(x=df_ens.index, y=df_ens[\"ens_avg\"], )"
   ]
  },
  {
   "cell_type": "code",
   "execution_count": 15,
   "metadata": {},
   "outputs": [
    {
     "data": {
      "text/plain": [
       "<matplotlib.axes._subplots.AxesSubplot at 0x1a2c093b38>"
      ]
     },
     "execution_count": 15,
     "metadata": {},
     "output_type": "execute_result"
    },
    {
     "data": {
      "image/png": "[encoded data removed]",
      "text/plain": [
       "<Figure size 432x288 with 1 Axes>"
      ]
     },
     "metadata": {
      "needs_background": "light"
     },
     "output_type": "display_data"
    }
   ],
   "source": [
    "sns.lineplot(x=df_gain.index, y=df_gain[\"p_gain_1000\"])"
   ]
  },
  {
   "cell_type": "markdown",
   "metadata": {},
   "source": [
    "### Download Stock Prices"
   ]
  },
  {
   "cell_type": "code",
   "execution_count": 16,
   "metadata": {},
   "outputs": [],
   "source": [
    "# Tesla, Shell, Google, Shopify, American Airlines, Nasdaq 100 index, Dow Jones Index\n",
    "\n",
    "stocks_list = ['TSLA', 'XOM', 'GOOGL', 'SHOP', 'AAL', 'NDX', 'DJI']"
   ]
  },
  {
   "cell_type": "code",
   "execution_count": 17,
   "metadata": {},
   "outputs": [
    {
     "name": "stdout",
     "output_type": "stream",
     "text": [
      "CPU times: user 729 ms, sys: 69.2 ms, total: 799 ms\n",
      "Wall time: 4.49 s\n"
     ]
    }
   ],
   "source": [
    "%%time\n",
    "\n",
    "stocks_price_df = yf.download(stocks_list, \n",
    "                      start='2000-01-01', \n",
    "                      end='2020-05-22', \n",
    "                      actions=True,\n",
    "                      rounding=True,\n",
    "                      progress=False)"
   ]
  },
  {
   "cell_type": "markdown",
   "metadata": {},
   "source": [
    "**Quick sanity check** - head and tail of the dataframe"
   ]
  },
  {
   "cell_type": "code",
   "execution_count": 18,
   "metadata": {},
   "outputs": [
    {
     "data": {
      "text/html": [
       "<div>\n",
       "<style scoped>\n",
       "    .dataframe tbody tr th:only-of-type {\n",
       "        vertical-align: middle;\n",
       "    }\n",
       "\n",
       "    .dataframe tbody tr th {\n",
       "        vertical-align: top;\n",
       "    }\n",
       "\n",
       "    .dataframe thead tr th {\n",
       "        text-align: left;\n",
       "    }\n",
       "\n",
       "    .dataframe thead tr:last-of-type th {\n",
       "        text-align: right;\n",
       "    }\n",
       "</style>\n",
       "<table border=\"1\" class=\"dataframe\">\n",
       "  <thead>\n",
       "    <tr>\n",
       "      <th></th>\n",
       "      <th colspan=\"7\" halign=\"left\">Adj Close</th>\n",
       "      <th colspan=\"3\" halign=\"left\">Close</th>\n",
       "      <th>...</th>\n",
       "      <th colspan=\"3\" halign=\"left\">Stock Splits</th>\n",
       "      <th colspan=\"7\" halign=\"left\">Volume</th>\n",
       "    </tr>\n",
       "    <tr>\n",
       "      <th></th>\n",
       "      <th>AAL</th>\n",
       "      <th>DJI</th>\n",
       "      <th>GOOGL</th>\n",
       "      <th>NDX</th>\n",
       "      <th>SHOP</th>\n",
       "      <th>TSLA</th>\n",
       "      <th>XOM</th>\n",
       "      <th>AAL</th>\n",
       "      <th>DJI</th>\n",
       "      <th>GOOGL</th>\n",
       "      <th>...</th>\n",
       "      <th>SHOP</th>\n",
       "      <th>TSLA</th>\n",
       "      <th>XOM</th>\n",
       "      <th>AAL</th>\n",
       "      <th>DJI</th>\n",
       "      <th>GOOGL</th>\n",
       "      <th>NDX</th>\n",
       "      <th>SHOP</th>\n",
       "      <th>TSLA</th>\n",
       "      <th>XOM</th>\n",
       "    </tr>\n",
       "    <tr>\n",
       "      <th>Date</th>\n",
       "      <th></th>\n",
       "      <th></th>\n",
       "      <th></th>\n",
       "      <th></th>\n",
       "      <th></th>\n",
       "      <th></th>\n",
       "      <th></th>\n",
       "      <th></th>\n",
       "      <th></th>\n",
       "      <th></th>\n",
       "      <th></th>\n",
       "      <th></th>\n",
       "      <th></th>\n",
       "      <th></th>\n",
       "      <th></th>\n",
       "      <th></th>\n",
       "      <th></th>\n",
       "      <th></th>\n",
       "      <th></th>\n",
       "      <th></th>\n",
       "      <th></th>\n",
       "    </tr>\n",
       "  </thead>\n",
       "  <tbody>\n",
       "    <tr>\n",
       "      <td>1999-12-31</td>\n",
       "      <td>NaN</td>\n",
       "      <td>11497.1</td>\n",
       "      <td>NaN</td>\n",
       "      <td>NaN</td>\n",
       "      <td>NaN</td>\n",
       "      <td>NaN</td>\n",
       "      <td>22.45</td>\n",
       "      <td>NaN</td>\n",
       "      <td>11497.1</td>\n",
       "      <td>NaN</td>\n",
       "      <td>...</td>\n",
       "      <td>NaN</td>\n",
       "      <td>NaN</td>\n",
       "      <td>0.0</td>\n",
       "      <td>NaN</td>\n",
       "      <td>0.0</td>\n",
       "      <td>NaN</td>\n",
       "      <td>NaN</td>\n",
       "      <td>NaN</td>\n",
       "      <td>NaN</td>\n",
       "      <td>2758600</td>\n",
       "    </tr>\n",
       "    <tr>\n",
       "      <td>2000-01-03</td>\n",
       "      <td>NaN</td>\n",
       "      <td>11357.5</td>\n",
       "      <td>NaN</td>\n",
       "      <td>NaN</td>\n",
       "      <td>NaN</td>\n",
       "      <td>NaN</td>\n",
       "      <td>21.82</td>\n",
       "      <td>NaN</td>\n",
       "      <td>11357.5</td>\n",
       "      <td>NaN</td>\n",
       "      <td>...</td>\n",
       "      <td>NaN</td>\n",
       "      <td>NaN</td>\n",
       "      <td>0.0</td>\n",
       "      <td>NaN</td>\n",
       "      <td>0.0</td>\n",
       "      <td>NaN</td>\n",
       "      <td>NaN</td>\n",
       "      <td>NaN</td>\n",
       "      <td>NaN</td>\n",
       "      <td>13458200</td>\n",
       "    </tr>\n",
       "    <tr>\n",
       "      <td>2000-01-04</td>\n",
       "      <td>NaN</td>\n",
       "      <td>10997.9</td>\n",
       "      <td>NaN</td>\n",
       "      <td>NaN</td>\n",
       "      <td>NaN</td>\n",
       "      <td>NaN</td>\n",
       "      <td>21.40</td>\n",
       "      <td>NaN</td>\n",
       "      <td>10997.9</td>\n",
       "      <td>NaN</td>\n",
       "      <td>...</td>\n",
       "      <td>NaN</td>\n",
       "      <td>NaN</td>\n",
       "      <td>0.0</td>\n",
       "      <td>NaN</td>\n",
       "      <td>0.0</td>\n",
       "      <td>NaN</td>\n",
       "      <td>NaN</td>\n",
       "      <td>NaN</td>\n",
       "      <td>NaN</td>\n",
       "      <td>14510800</td>\n",
       "    </tr>\n",
       "    <tr>\n",
       "      <td>2000-01-05</td>\n",
       "      <td>NaN</td>\n",
       "      <td>11122.7</td>\n",
       "      <td>NaN</td>\n",
       "      <td>NaN</td>\n",
       "      <td>NaN</td>\n",
       "      <td>NaN</td>\n",
       "      <td>22.57</td>\n",
       "      <td>NaN</td>\n",
       "      <td>11122.7</td>\n",
       "      <td>NaN</td>\n",
       "      <td>...</td>\n",
       "      <td>NaN</td>\n",
       "      <td>NaN</td>\n",
       "      <td>0.0</td>\n",
       "      <td>NaN</td>\n",
       "      <td>0.0</td>\n",
       "      <td>NaN</td>\n",
       "      <td>NaN</td>\n",
       "      <td>NaN</td>\n",
       "      <td>NaN</td>\n",
       "      <td>17485000</td>\n",
       "    </tr>\n",
       "    <tr>\n",
       "      <td>2000-01-06</td>\n",
       "      <td>NaN</td>\n",
       "      <td>11253.3</td>\n",
       "      <td>NaN</td>\n",
       "      <td>NaN</td>\n",
       "      <td>NaN</td>\n",
       "      <td>NaN</td>\n",
       "      <td>23.73</td>\n",
       "      <td>NaN</td>\n",
       "      <td>11253.3</td>\n",
       "      <td>NaN</td>\n",
       "      <td>...</td>\n",
       "      <td>NaN</td>\n",
       "      <td>NaN</td>\n",
       "      <td>0.0</td>\n",
       "      <td>NaN</td>\n",
       "      <td>0.0</td>\n",
       "      <td>NaN</td>\n",
       "      <td>NaN</td>\n",
       "      <td>NaN</td>\n",
       "      <td>NaN</td>\n",
       "      <td>19461600</td>\n",
       "    </tr>\n",
       "  </tbody>\n",
       "</table>\n",
       "<p>5 rows × 56 columns</p>\n",
       "</div>"
      ],
      "text/plain": [
       "           Adj Close                                     Close                 \\\n",
       "                 AAL      DJI GOOGL NDX SHOP TSLA    XOM   AAL      DJI GOOGL   \n",
       "Date                                                                            \n",
       "1999-12-31       NaN  11497.1   NaN NaN  NaN  NaN  22.45   NaN  11497.1   NaN   \n",
       "2000-01-03       NaN  11357.5   NaN NaN  NaN  NaN  21.82   NaN  11357.5   NaN   \n",
       "2000-01-04       NaN  10997.9   NaN NaN  NaN  NaN  21.40   NaN  10997.9   NaN   \n",
       "2000-01-05       NaN  11122.7   NaN NaN  NaN  NaN  22.57   NaN  11122.7   NaN   \n",
       "2000-01-06       NaN  11253.3   NaN NaN  NaN  NaN  23.73   NaN  11253.3   NaN   \n",
       "\n",
       "            ... Stock Splits           Volume                           \\\n",
       "            ...         SHOP TSLA  XOM    AAL  DJI GOOGL NDX SHOP TSLA   \n",
       "Date        ...                                                          \n",
       "1999-12-31  ...          NaN  NaN  0.0    NaN  0.0   NaN NaN  NaN  NaN   \n",
       "2000-01-03  ...          NaN  NaN  0.0    NaN  0.0   NaN NaN  NaN  NaN   \n",
       "2000-01-04  ...          NaN  NaN  0.0    NaN  0.0   NaN NaN  NaN  NaN   \n",
       "2000-01-05  ...          NaN  NaN  0.0    NaN  0.0   NaN NaN  NaN  NaN   \n",
       "2000-01-06  ...          NaN  NaN  0.0    NaN  0.0   NaN NaN  NaN  NaN   \n",
       "\n",
       "                      \n",
       "                 XOM  \n",
       "Date                  \n",
       "1999-12-31   2758600  \n",
       "2000-01-03  13458200  \n",
       "2000-01-04  14510800  \n",
       "2000-01-05  17485000  \n",
       "2000-01-06  19461600  \n",
       "\n",
       "[5 rows x 56 columns]"
      ]
     },
     "execution_count": 18,
     "metadata": {},
     "output_type": "execute_result"
    }
   ],
   "source": [
    "stocks_price_df.head()"
   ]
  },
  {
   "cell_type": "code",
   "execution_count": 19,
   "metadata": {},
   "outputs": [
    {
     "data": {
      "text/html": [
       "<div>\n",
       "<style scoped>\n",
       "    .dataframe tbody tr th:only-of-type {\n",
       "        vertical-align: middle;\n",
       "    }\n",
       "\n",
       "    .dataframe tbody tr th {\n",
       "        vertical-align: top;\n",
       "    }\n",
       "\n",
       "    .dataframe thead tr th {\n",
       "        text-align: left;\n",
       "    }\n",
       "\n",
       "    .dataframe thead tr:last-of-type th {\n",
       "        text-align: right;\n",
       "    }\n",
       "</style>\n",
       "<table border=\"1\" class=\"dataframe\">\n",
       "  <thead>\n",
       "    <tr>\n",
       "      <th></th>\n",
       "      <th colspan=\"7\" halign=\"left\">Adj Close</th>\n",
       "      <th colspan=\"3\" halign=\"left\">Close</th>\n",
       "      <th>...</th>\n",
       "      <th colspan=\"3\" halign=\"left\">Stock Splits</th>\n",
       "      <th colspan=\"7\" halign=\"left\">Volume</th>\n",
       "    </tr>\n",
       "    <tr>\n",
       "      <th></th>\n",
       "      <th>AAL</th>\n",
       "      <th>DJI</th>\n",
       "      <th>GOOGL</th>\n",
       "      <th>NDX</th>\n",
       "      <th>SHOP</th>\n",
       "      <th>TSLA</th>\n",
       "      <th>XOM</th>\n",
       "      <th>AAL</th>\n",
       "      <th>DJI</th>\n",
       "      <th>GOOGL</th>\n",
       "      <th>...</th>\n",
       "      <th>SHOP</th>\n",
       "      <th>TSLA</th>\n",
       "      <th>XOM</th>\n",
       "      <th>AAL</th>\n",
       "      <th>DJI</th>\n",
       "      <th>GOOGL</th>\n",
       "      <th>NDX</th>\n",
       "      <th>SHOP</th>\n",
       "      <th>TSLA</th>\n",
       "      <th>XOM</th>\n",
       "    </tr>\n",
       "    <tr>\n",
       "      <th>Date</th>\n",
       "      <th></th>\n",
       "      <th></th>\n",
       "      <th></th>\n",
       "      <th></th>\n",
       "      <th></th>\n",
       "      <th></th>\n",
       "      <th></th>\n",
       "      <th></th>\n",
       "      <th></th>\n",
       "      <th></th>\n",
       "      <th></th>\n",
       "      <th></th>\n",
       "      <th></th>\n",
       "      <th></th>\n",
       "      <th></th>\n",
       "      <th></th>\n",
       "      <th></th>\n",
       "      <th></th>\n",
       "      <th></th>\n",
       "      <th></th>\n",
       "      <th></th>\n",
       "    </tr>\n",
       "  </thead>\n",
       "  <tbody>\n",
       "    <tr>\n",
       "      <td>2020-05-15</td>\n",
       "      <td>9.04</td>\n",
       "      <td>23685.4</td>\n",
       "      <td>1373.06</td>\n",
       "      <td>9152.64</td>\n",
       "      <td>767.00</td>\n",
       "      <td>799.17</td>\n",
       "      <td>42.00</td>\n",
       "      <td>9.04</td>\n",
       "      <td>23685.4</td>\n",
       "      <td>1373.06</td>\n",
       "      <td>...</td>\n",
       "      <td>0.0</td>\n",
       "      <td>0.0</td>\n",
       "      <td>0.0</td>\n",
       "      <td>39560500.0</td>\n",
       "      <td>0.0</td>\n",
       "      <td>2077200.0</td>\n",
       "      <td>0.0</td>\n",
       "      <td>3023500.0</td>\n",
       "      <td>10518400.0</td>\n",
       "      <td>22445600</td>\n",
       "    </tr>\n",
       "    <tr>\n",
       "      <td>2020-05-18</td>\n",
       "      <td>9.87</td>\n",
       "      <td>24597.4</td>\n",
       "      <td>1385.18</td>\n",
       "      <td>9331.93</td>\n",
       "      <td>738.02</td>\n",
       "      <td>813.63</td>\n",
       "      <td>45.34</td>\n",
       "      <td>9.87</td>\n",
       "      <td>24597.4</td>\n",
       "      <td>1385.18</td>\n",
       "      <td>...</td>\n",
       "      <td>0.0</td>\n",
       "      <td>0.0</td>\n",
       "      <td>0.0</td>\n",
       "      <td>76624400.0</td>\n",
       "      <td>0.0</td>\n",
       "      <td>2356400.0</td>\n",
       "      <td>0.0</td>\n",
       "      <td>3675100.0</td>\n",
       "      <td>11698100.0</td>\n",
       "      <td>32046100</td>\n",
       "    </tr>\n",
       "    <tr>\n",
       "      <td>2020-05-19</td>\n",
       "      <td>9.64</td>\n",
       "      <td>24206.9</td>\n",
       "      <td>1374.40</td>\n",
       "      <td>9298.54</td>\n",
       "      <td>753.01</td>\n",
       "      <td>808.01</td>\n",
       "      <td>43.94</td>\n",
       "      <td>9.64</td>\n",
       "      <td>24206.9</td>\n",
       "      <td>1374.40</td>\n",
       "      <td>...</td>\n",
       "      <td>0.0</td>\n",
       "      <td>0.0</td>\n",
       "      <td>0.0</td>\n",
       "      <td>62242500.0</td>\n",
       "      <td>0.0</td>\n",
       "      <td>1579300.0</td>\n",
       "      <td>0.0</td>\n",
       "      <td>5264400.0</td>\n",
       "      <td>9636500.0</td>\n",
       "      <td>21771600</td>\n",
       "    </tr>\n",
       "    <tr>\n",
       "      <td>2020-05-20</td>\n",
       "      <td>9.87</td>\n",
       "      <td>24575.9</td>\n",
       "      <td>1409.16</td>\n",
       "      <td>9485.02</td>\n",
       "      <td>778.00</td>\n",
       "      <td>815.56</td>\n",
       "      <td>45.37</td>\n",
       "      <td>9.87</td>\n",
       "      <td>24575.9</td>\n",
       "      <td>1409.16</td>\n",
       "      <td>...</td>\n",
       "      <td>0.0</td>\n",
       "      <td>0.0</td>\n",
       "      <td>0.0</td>\n",
       "      <td>44006700.0</td>\n",
       "      <td>0.0</td>\n",
       "      <td>1913100.0</td>\n",
       "      <td>0.0</td>\n",
       "      <td>3239000.0</td>\n",
       "      <td>7309300.0</td>\n",
       "      <td>19352400</td>\n",
       "    </tr>\n",
       "    <tr>\n",
       "      <td>2020-05-21</td>\n",
       "      <td>9.89</td>\n",
       "      <td>24474.1</td>\n",
       "      <td>1406.75</td>\n",
       "      <td>9377.99</td>\n",
       "      <td>802.35</td>\n",
       "      <td>827.60</td>\n",
       "      <td>44.56</td>\n",
       "      <td>9.89</td>\n",
       "      <td>24474.1</td>\n",
       "      <td>1406.75</td>\n",
       "      <td>...</td>\n",
       "      <td>0.0</td>\n",
       "      <td>0.0</td>\n",
       "      <td>0.0</td>\n",
       "      <td>45785700.0</td>\n",
       "      <td>0.0</td>\n",
       "      <td>1544700.0</td>\n",
       "      <td>0.0</td>\n",
       "      <td>4136500.0</td>\n",
       "      <td>12254600.0</td>\n",
       "      <td>19130700</td>\n",
       "    </tr>\n",
       "  </tbody>\n",
       "</table>\n",
       "<p>5 rows × 56 columns</p>\n",
       "</div>"
      ],
      "text/plain": [
       "           Adj Close                                                   Close  \\\n",
       "                 AAL      DJI    GOOGL      NDX    SHOP    TSLA    XOM   AAL   \n",
       "Date                                                                           \n",
       "2020-05-15      9.04  23685.4  1373.06  9152.64  767.00  799.17  42.00  9.04   \n",
       "2020-05-18      9.87  24597.4  1385.18  9331.93  738.02  813.63  45.34  9.87   \n",
       "2020-05-19      9.64  24206.9  1374.40  9298.54  753.01  808.01  43.94  9.64   \n",
       "2020-05-20      9.87  24575.9  1409.16  9485.02  778.00  815.56  45.37  9.87   \n",
       "2020-05-21      9.89  24474.1  1406.75  9377.99  802.35  827.60  44.56  9.89   \n",
       "\n",
       "                              ... Stock Splits                Volume       \\\n",
       "                DJI    GOOGL  ...         SHOP TSLA  XOM         AAL  DJI   \n",
       "Date                          ...                                           \n",
       "2020-05-15  23685.4  1373.06  ...          0.0  0.0  0.0  39560500.0  0.0   \n",
       "2020-05-18  24597.4  1385.18  ...          0.0  0.0  0.0  76624400.0  0.0   \n",
       "2020-05-19  24206.9  1374.40  ...          0.0  0.0  0.0  62242500.0  0.0   \n",
       "2020-05-20  24575.9  1409.16  ...          0.0  0.0  0.0  44006700.0  0.0   \n",
       "2020-05-21  24474.1  1406.75  ...          0.0  0.0  0.0  45785700.0  0.0   \n",
       "\n",
       "                                                             \n",
       "                GOOGL  NDX       SHOP        TSLA       XOM  \n",
       "Date                                                         \n",
       "2020-05-15  2077200.0  0.0  3023500.0  10518400.0  22445600  \n",
       "2020-05-18  2356400.0  0.0  3675100.0  11698100.0  32046100  \n",
       "2020-05-19  1579300.0  0.0  5264400.0   9636500.0  21771600  \n",
       "2020-05-20  1913100.0  0.0  3239000.0   7309300.0  19352400  \n",
       "2020-05-21  1544700.0  0.0  4136500.0  12254600.0  19130700  \n",
       "\n",
       "[5 rows x 56 columns]"
      ]
     },
     "execution_count": 19,
     "metadata": {},
     "output_type": "execute_result"
    }
   ],
   "source": [
    "stocks_price_df.tail()"
   ]
  },
  {
   "cell_type": "markdown",
   "metadata": {},
   "source": [
    "**Finding from when all the stocks have data**"
   ]
  },
  {
   "cell_type": "code",
   "execution_count": 20,
   "metadata": {},
   "outputs": [],
   "source": [
    "date_to_check = \"2015-12-31\""
   ]
  },
  {
   "cell_type": "code",
   "execution_count": 21,
   "metadata": {},
   "outputs": [
    {
     "data": {
      "text/html": [
       "<div>\n",
       "<style scoped>\n",
       "    .dataframe tbody tr th:only-of-type {\n",
       "        vertical-align: middle;\n",
       "    }\n",
       "\n",
       "    .dataframe tbody tr th {\n",
       "        vertical-align: top;\n",
       "    }\n",
       "\n",
       "    .dataframe thead tr th {\n",
       "        text-align: left;\n",
       "    }\n",
       "\n",
       "    .dataframe thead tr:last-of-type th {\n",
       "        text-align: right;\n",
       "    }\n",
       "</style>\n",
       "<table border=\"1\" class=\"dataframe\">\n",
       "  <thead>\n",
       "    <tr>\n",
       "      <th></th>\n",
       "      <th colspan=\"7\" halign=\"left\">Adj Close</th>\n",
       "      <th colspan=\"3\" halign=\"left\">Close</th>\n",
       "      <th>...</th>\n",
       "      <th colspan=\"3\" halign=\"left\">Stock Splits</th>\n",
       "      <th colspan=\"7\" halign=\"left\">Volume</th>\n",
       "    </tr>\n",
       "    <tr>\n",
       "      <th></th>\n",
       "      <th>AAL</th>\n",
       "      <th>DJI</th>\n",
       "      <th>GOOGL</th>\n",
       "      <th>NDX</th>\n",
       "      <th>SHOP</th>\n",
       "      <th>TSLA</th>\n",
       "      <th>XOM</th>\n",
       "      <th>AAL</th>\n",
       "      <th>DJI</th>\n",
       "      <th>GOOGL</th>\n",
       "      <th>...</th>\n",
       "      <th>SHOP</th>\n",
       "      <th>TSLA</th>\n",
       "      <th>XOM</th>\n",
       "      <th>AAL</th>\n",
       "      <th>DJI</th>\n",
       "      <th>GOOGL</th>\n",
       "      <th>NDX</th>\n",
       "      <th>SHOP</th>\n",
       "      <th>TSLA</th>\n",
       "      <th>XOM</th>\n",
       "    </tr>\n",
       "    <tr>\n",
       "      <th>Date</th>\n",
       "      <th></th>\n",
       "      <th></th>\n",
       "      <th></th>\n",
       "      <th></th>\n",
       "      <th></th>\n",
       "      <th></th>\n",
       "      <th></th>\n",
       "      <th></th>\n",
       "      <th></th>\n",
       "      <th></th>\n",
       "      <th></th>\n",
       "      <th></th>\n",
       "      <th></th>\n",
       "      <th></th>\n",
       "      <th></th>\n",
       "      <th></th>\n",
       "      <th></th>\n",
       "      <th></th>\n",
       "      <th></th>\n",
       "      <th></th>\n",
       "      <th></th>\n",
       "    </tr>\n",
       "  </thead>\n",
       "  <tbody>\n",
       "    <tr>\n",
       "      <td>2016-01-04</td>\n",
       "      <td>39.10</td>\n",
       "      <td>17148.9</td>\n",
       "      <td>759.44</td>\n",
       "      <td>4497.86</td>\n",
       "      <td>25.72</td>\n",
       "      <td>223.41</td>\n",
       "      <td>63.87</td>\n",
       "      <td>40.91</td>\n",
       "      <td>17148.9</td>\n",
       "      <td>759.44</td>\n",
       "      <td>...</td>\n",
       "      <td>0.0</td>\n",
       "      <td>0.0</td>\n",
       "      <td>0.0</td>\n",
       "      <td>12037200.0</td>\n",
       "      <td>101064033.0</td>\n",
       "      <td>3369100.0</td>\n",
       "      <td>0.0</td>\n",
       "      <td>601800.0</td>\n",
       "      <td>6827100.0</td>\n",
       "      <td>20400100</td>\n",
       "    </tr>\n",
       "    <tr>\n",
       "      <td>2016-01-05</td>\n",
       "      <td>38.72</td>\n",
       "      <td>17158.7</td>\n",
       "      <td>761.53</td>\n",
       "      <td>4484.18</td>\n",
       "      <td>25.31</td>\n",
       "      <td>223.43</td>\n",
       "      <td>64.41</td>\n",
       "      <td>40.52</td>\n",
       "      <td>17158.7</td>\n",
       "      <td>761.53</td>\n",
       "      <td>...</td>\n",
       "      <td>0.0</td>\n",
       "      <td>0.0</td>\n",
       "      <td>0.0</td>\n",
       "      <td>10514200.0</td>\n",
       "      <td>81431354.0</td>\n",
       "      <td>2260800.0</td>\n",
       "      <td>0.0</td>\n",
       "      <td>418200.0</td>\n",
       "      <td>3186800.0</td>\n",
       "      <td>11993500</td>\n",
       "    </tr>\n",
       "    <tr>\n",
       "      <td>2016-01-06</td>\n",
       "      <td>39.40</td>\n",
       "      <td>16906.5</td>\n",
       "      <td>759.33</td>\n",
       "      <td>4443.98</td>\n",
       "      <td>25.30</td>\n",
       "      <td>219.04</td>\n",
       "      <td>63.88</td>\n",
       "      <td>41.23</td>\n",
       "      <td>16906.5</td>\n",
       "      <td>759.33</td>\n",
       "      <td>...</td>\n",
       "      <td>0.0</td>\n",
       "      <td>0.0</td>\n",
       "      <td>0.0</td>\n",
       "      <td>12393800.0</td>\n",
       "      <td>90438059.0</td>\n",
       "      <td>2410300.0</td>\n",
       "      <td>0.0</td>\n",
       "      <td>256600.0</td>\n",
       "      <td>3779100.0</td>\n",
       "      <td>18826900</td>\n",
       "    </tr>\n",
       "    <tr>\n",
       "      <td>2016-01-07</td>\n",
       "      <td>38.66</td>\n",
       "      <td>16514.1</td>\n",
       "      <td>741.00</td>\n",
       "      <td>4305.72</td>\n",
       "      <td>24.67</td>\n",
       "      <td>215.65</td>\n",
       "      <td>62.86</td>\n",
       "      <td>40.45</td>\n",
       "      <td>16514.1</td>\n",
       "      <td>741.00</td>\n",
       "      <td>...</td>\n",
       "      <td>0.0</td>\n",
       "      <td>0.0</td>\n",
       "      <td>0.0</td>\n",
       "      <td>11312900.0</td>\n",
       "      <td>121717423.0</td>\n",
       "      <td>3156600.0</td>\n",
       "      <td>0.0</td>\n",
       "      <td>416000.0</td>\n",
       "      <td>3554300.0</td>\n",
       "      <td>21263800</td>\n",
       "    </tr>\n",
       "    <tr>\n",
       "      <td>2016-01-08</td>\n",
       "      <td>38.58</td>\n",
       "      <td>16346.5</td>\n",
       "      <td>730.91</td>\n",
       "      <td>4270.78</td>\n",
       "      <td>24.93</td>\n",
       "      <td>211.00</td>\n",
       "      <td>61.59</td>\n",
       "      <td>40.37</td>\n",
       "      <td>16346.5</td>\n",
       "      <td>730.91</td>\n",
       "      <td>...</td>\n",
       "      <td>0.0</td>\n",
       "      <td>0.0</td>\n",
       "      <td>0.0</td>\n",
       "      <td>8853100.0</td>\n",
       "      <td>103150551.0</td>\n",
       "      <td>2375300.0</td>\n",
       "      <td>0.0</td>\n",
       "      <td>137400.0</td>\n",
       "      <td>3628100.0</td>\n",
       "      <td>19033600</td>\n",
       "    </tr>\n",
       "  </tbody>\n",
       "</table>\n",
       "<p>5 rows × 56 columns</p>\n",
       "</div>"
      ],
      "text/plain": [
       "           Adj Close                                                  Close  \\\n",
       "                 AAL      DJI   GOOGL      NDX   SHOP    TSLA    XOM    AAL   \n",
       "Date                                                                          \n",
       "2016-01-04     39.10  17148.9  759.44  4497.86  25.72  223.41  63.87  40.91   \n",
       "2016-01-05     38.72  17158.7  761.53  4484.18  25.31  223.43  64.41  40.52   \n",
       "2016-01-06     39.40  16906.5  759.33  4443.98  25.30  219.04  63.88  41.23   \n",
       "2016-01-07     38.66  16514.1  741.00  4305.72  24.67  215.65  62.86  40.45   \n",
       "2016-01-08     38.58  16346.5  730.91  4270.78  24.93  211.00  61.59  40.37   \n",
       "\n",
       "                             ... Stock Splits                Volume  \\\n",
       "                DJI   GOOGL  ...         SHOP TSLA  XOM         AAL   \n",
       "Date                         ...                                      \n",
       "2016-01-04  17148.9  759.44  ...          0.0  0.0  0.0  12037200.0   \n",
       "2016-01-05  17158.7  761.53  ...          0.0  0.0  0.0  10514200.0   \n",
       "2016-01-06  16906.5  759.33  ...          0.0  0.0  0.0  12393800.0   \n",
       "2016-01-07  16514.1  741.00  ...          0.0  0.0  0.0  11312900.0   \n",
       "2016-01-08  16346.5  730.91  ...          0.0  0.0  0.0   8853100.0   \n",
       "\n",
       "                                                                        \n",
       "                    DJI      GOOGL  NDX      SHOP       TSLA       XOM  \n",
       "Date                                                                    \n",
       "2016-01-04  101064033.0  3369100.0  0.0  601800.0  6827100.0  20400100  \n",
       "2016-01-05   81431354.0  2260800.0  0.0  418200.0  3186800.0  11993500  \n",
       "2016-01-06   90438059.0  2410300.0  0.0  256600.0  3779100.0  18826900  \n",
       "2016-01-07  121717423.0  3156600.0  0.0  416000.0  3554300.0  21263800  \n",
       "2016-01-08  103150551.0  2375300.0  0.0  137400.0  3628100.0  19033600  \n",
       "\n",
       "[5 rows x 56 columns]"
      ]
     },
     "execution_count": 21,
     "metadata": {},
     "output_type": "execute_result"
    }
   ],
   "source": [
    "stocks_price_df[stocks_price_df.index > date_to_check].head()"
   ]
  },
  {
   "cell_type": "markdown",
   "metadata": {},
   "source": [
    "**Subsetting data from the selected date**"
   ]
  },
  {
   "cell_type": "code",
   "execution_count": 22,
   "metadata": {},
   "outputs": [],
   "source": [
    "stock_analyze_df = stocks_price_df[stocks_price_df.index > date_to_check].iloc[:,:7].copy()"
   ]
  },
  {
   "cell_type": "markdown",
   "metadata": {},
   "source": [
    "**Dropping multi-level column names**"
   ]
  },
  {
   "cell_type": "code",
   "execution_count": 23,
   "metadata": {},
   "outputs": [],
   "source": [
    "stock_analyze_df.columns = stock_analyze_df.columns.droplevel()"
   ]
  },
  {
   "cell_type": "code",
   "execution_count": 24,
   "metadata": {},
   "outputs": [
    {
     "data": {
      "text/html": [
       "<div>\n",
       "<style scoped>\n",
       "    .dataframe tbody tr th:only-of-type {\n",
       "        vertical-align: middle;\n",
       "    }\n",
       "\n",
       "    .dataframe tbody tr th {\n",
       "        vertical-align: top;\n",
       "    }\n",
       "\n",
       "    .dataframe thead th {\n",
       "        text-align: right;\n",
       "    }\n",
       "</style>\n",
       "<table border=\"1\" class=\"dataframe\">\n",
       "  <thead>\n",
       "    <tr style=\"text-align: right;\">\n",
       "      <th></th>\n",
       "      <th>AAL</th>\n",
       "      <th>DJI</th>\n",
       "      <th>GOOGL</th>\n",
       "      <th>NDX</th>\n",
       "      <th>SHOP</th>\n",
       "      <th>TSLA</th>\n",
       "      <th>XOM</th>\n",
       "    </tr>\n",
       "    <tr>\n",
       "      <th>Date</th>\n",
       "      <th></th>\n",
       "      <th></th>\n",
       "      <th></th>\n",
       "      <th></th>\n",
       "      <th></th>\n",
       "      <th></th>\n",
       "      <th></th>\n",
       "    </tr>\n",
       "  </thead>\n",
       "  <tbody>\n",
       "    <tr>\n",
       "      <td>2016-01-04</td>\n",
       "      <td>39.10</td>\n",
       "      <td>17148.9</td>\n",
       "      <td>759.44</td>\n",
       "      <td>4497.86</td>\n",
       "      <td>25.72</td>\n",
       "      <td>223.41</td>\n",
       "      <td>63.87</td>\n",
       "    </tr>\n",
       "    <tr>\n",
       "      <td>2016-01-05</td>\n",
       "      <td>38.72</td>\n",
       "      <td>17158.7</td>\n",
       "      <td>761.53</td>\n",
       "      <td>4484.18</td>\n",
       "      <td>25.31</td>\n",
       "      <td>223.43</td>\n",
       "      <td>64.41</td>\n",
       "    </tr>\n",
       "    <tr>\n",
       "      <td>2016-01-06</td>\n",
       "      <td>39.40</td>\n",
       "      <td>16906.5</td>\n",
       "      <td>759.33</td>\n",
       "      <td>4443.98</td>\n",
       "      <td>25.30</td>\n",
       "      <td>219.04</td>\n",
       "      <td>63.88</td>\n",
       "    </tr>\n",
       "    <tr>\n",
       "      <td>2016-01-07</td>\n",
       "      <td>38.66</td>\n",
       "      <td>16514.1</td>\n",
       "      <td>741.00</td>\n",
       "      <td>4305.72</td>\n",
       "      <td>24.67</td>\n",
       "      <td>215.65</td>\n",
       "      <td>62.86</td>\n",
       "    </tr>\n",
       "    <tr>\n",
       "      <td>2016-01-08</td>\n",
       "      <td>38.58</td>\n",
       "      <td>16346.5</td>\n",
       "      <td>730.91</td>\n",
       "      <td>4270.78</td>\n",
       "      <td>24.93</td>\n",
       "      <td>211.00</td>\n",
       "      <td>61.59</td>\n",
       "    </tr>\n",
       "  </tbody>\n",
       "</table>\n",
       "</div>"
      ],
      "text/plain": [
       "              AAL      DJI   GOOGL      NDX   SHOP    TSLA    XOM\n",
       "Date                                                             \n",
       "2016-01-04  39.10  17148.9  759.44  4497.86  25.72  223.41  63.87\n",
       "2016-01-05  38.72  17158.7  761.53  4484.18  25.31  223.43  64.41\n",
       "2016-01-06  39.40  16906.5  759.33  4443.98  25.30  219.04  63.88\n",
       "2016-01-07  38.66  16514.1  741.00  4305.72  24.67  215.65  62.86\n",
       "2016-01-08  38.58  16346.5  730.91  4270.78  24.93  211.00  61.59"
      ]
     },
     "execution_count": 24,
     "metadata": {},
     "output_type": "execute_result"
    }
   ],
   "source": [
    "stock_analyze_df.head()"
   ]
  },
  {
   "cell_type": "markdown",
   "metadata": {},
   "source": [
    "**Checking for missing values**"
   ]
  },
  {
   "cell_type": "code",
   "execution_count": 25,
   "metadata": {},
   "outputs": [
    {
     "data": {
      "text/plain": [
       "AAL        0\n",
       "DJI      150\n",
       "GOOGL      0\n",
       "NDX      222\n",
       "SHOP       0\n",
       "TSLA       0\n",
       "XOM        0\n",
       "dtype: int64"
      ]
     },
     "execution_count": 25,
     "metadata": {},
     "output_type": "execute_result"
    }
   ],
   "source": [
    "stock_analyze_df.isna().sum()"
   ]
  },
  {
   "cell_type": "markdown",
   "metadata": {},
   "source": [
    "**Filling missing values with previous observed value**"
   ]
  },
  {
   "cell_type": "code",
   "execution_count": 26,
   "metadata": {},
   "outputs": [],
   "source": [
    "stock_analyze_df.fillna(method=\"ffill\", inplace=True)"
   ]
  },
  {
   "cell_type": "markdown",
   "metadata": {},
   "source": [
    "**Computing % change from previous value**"
   ]
  },
  {
   "cell_type": "code",
   "execution_count": 27,
   "metadata": {},
   "outputs": [],
   "source": [
    "stock_analyze_pc_df = stock_analyze_df.apply(lambda x: (x - x.shift(1))/x.shift(1))"
   ]
  },
  {
   "cell_type": "code",
   "execution_count": 28,
   "metadata": {},
   "outputs": [
    {
     "data": {
      "text/html": [
       "<div>\n",
       "<style scoped>\n",
       "    .dataframe tbody tr th:only-of-type {\n",
       "        vertical-align: middle;\n",
       "    }\n",
       "\n",
       "    .dataframe tbody tr th {\n",
       "        vertical-align: top;\n",
       "    }\n",
       "\n",
       "    .dataframe thead th {\n",
       "        text-align: right;\n",
       "    }\n",
       "</style>\n",
       "<table border=\"1\" class=\"dataframe\">\n",
       "  <thead>\n",
       "    <tr style=\"text-align: right;\">\n",
       "      <th></th>\n",
       "      <th>AAL</th>\n",
       "      <th>DJI</th>\n",
       "      <th>GOOGL</th>\n",
       "      <th>NDX</th>\n",
       "      <th>SHOP</th>\n",
       "      <th>TSLA</th>\n",
       "      <th>XOM</th>\n",
       "    </tr>\n",
       "    <tr>\n",
       "      <th>Date</th>\n",
       "      <th></th>\n",
       "      <th></th>\n",
       "      <th></th>\n",
       "      <th></th>\n",
       "      <th></th>\n",
       "      <th></th>\n",
       "      <th></th>\n",
       "    </tr>\n",
       "  </thead>\n",
       "  <tbody>\n",
       "    <tr>\n",
       "      <td>2016-01-04</td>\n",
       "      <td>NaN</td>\n",
       "      <td>NaN</td>\n",
       "      <td>NaN</td>\n",
       "      <td>NaN</td>\n",
       "      <td>NaN</td>\n",
       "      <td>NaN</td>\n",
       "      <td>NaN</td>\n",
       "    </tr>\n",
       "    <tr>\n",
       "      <td>2016-01-05</td>\n",
       "      <td>-0.009719</td>\n",
       "      <td>0.000571</td>\n",
       "      <td>0.002752</td>\n",
       "      <td>-0.003041</td>\n",
       "      <td>-0.015941</td>\n",
       "      <td>0.000090</td>\n",
       "      <td>0.008455</td>\n",
       "    </tr>\n",
       "    <tr>\n",
       "      <td>2016-01-06</td>\n",
       "      <td>0.017562</td>\n",
       "      <td>-0.014698</td>\n",
       "      <td>-0.002889</td>\n",
       "      <td>-0.008965</td>\n",
       "      <td>-0.000395</td>\n",
       "      <td>-0.019648</td>\n",
       "      <td>-0.008229</td>\n",
       "    </tr>\n",
       "    <tr>\n",
       "      <td>2016-01-07</td>\n",
       "      <td>-0.018782</td>\n",
       "      <td>-0.023210</td>\n",
       "      <td>-0.024140</td>\n",
       "      <td>-0.031112</td>\n",
       "      <td>-0.024901</td>\n",
       "      <td>-0.015477</td>\n",
       "      <td>-0.015967</td>\n",
       "    </tr>\n",
       "    <tr>\n",
       "      <td>2016-01-08</td>\n",
       "      <td>-0.002069</td>\n",
       "      <td>-0.010149</td>\n",
       "      <td>-0.013617</td>\n",
       "      <td>-0.008115</td>\n",
       "      <td>0.010539</td>\n",
       "      <td>-0.021563</td>\n",
       "      <td>-0.020204</td>\n",
       "    </tr>\n",
       "  </tbody>\n",
       "</table>\n",
       "</div>"
      ],
      "text/plain": [
       "                 AAL       DJI     GOOGL       NDX      SHOP      TSLA  \\\n",
       "Date                                                                     \n",
       "2016-01-04       NaN       NaN       NaN       NaN       NaN       NaN   \n",
       "2016-01-05 -0.009719  0.000571  0.002752 -0.003041 -0.015941  0.000090   \n",
       "2016-01-06  0.017562 -0.014698 -0.002889 -0.008965 -0.000395 -0.019648   \n",
       "2016-01-07 -0.018782 -0.023210 -0.024140 -0.031112 -0.024901 -0.015477   \n",
       "2016-01-08 -0.002069 -0.010149 -0.013617 -0.008115  0.010539 -0.021563   \n",
       "\n",
       "                 XOM  \n",
       "Date                  \n",
       "2016-01-04       NaN  \n",
       "2016-01-05  0.008455  \n",
       "2016-01-06 -0.008229  \n",
       "2016-01-07 -0.015967  \n",
       "2016-01-08 -0.020204  "
      ]
     },
     "execution_count": 28,
     "metadata": {},
     "output_type": "execute_result"
    }
   ],
   "source": [
    "stock_analyze_pc_df.head()"
   ]
  },
  {
   "cell_type": "markdown",
   "metadata": {},
   "source": [
    "**Plotting stock price and % change**"
   ]
  },
  {
   "cell_type": "code",
   "execution_count": 29,
   "metadata": {},
   "outputs": [],
   "source": [
    "stock_ticker = \"AAL\""
   ]
  },
  {
   "cell_type": "code",
   "execution_count": 30,
   "metadata": {},
   "outputs": [
    {
     "name": "stderr",
     "output_type": "stream",
     "text": [
      "/Users/bargava/anaconda3/lib/python3.6/site-packages/pandas/plotting/_matplotlib/converter.py:103: FutureWarning: Using an implicitly registered datetime converter for a matplotlib plotting method. The converter was registered by pandas on import. Future versions of pandas will require you to explicitly register matplotlib converters.\n",
      "\n",
      "To register the converters:\n",
      "\t>>> from pandas.plotting import register_matplotlib_converters\n",
      "\t>>> register_matplotlib_converters()\n",
      "  warnings.warn(msg, FutureWarning)\n"
     ]
    },
    {
     "data": {
      "image/png": "[encoded data removed]",
      "text/plain": [
       "<Figure size 432x288 with 1 Axes>"
      ]
     },
     "metadata": {
      "needs_background": "light"
     },
     "output_type": "display_data"
    }
   ],
   "source": [
    "sns.lineplot(x=stock_analyze_df.index, y=stock_analyze_df[stock_ticker]).set_title(stock_ticker+\" daily stock price plot\");"
   ]
  },
  {
   "cell_type": "code",
   "execution_count": 31,
   "metadata": {},
   "outputs": [
    {
     "data": {
      "image/png": "[encoded data removed]",
      "text/plain": [
       "<Figure size 432x288 with 1 Axes>"
      ]
     },
     "metadata": {
      "needs_background": "light"
     },
     "output_type": "display_data"
    }
   ],
   "source": [
    "sns.lineplot(x=stock_analyze_pc_df.index, y=stock_analyze_pc_df[stock_ticker]).set_title(stock_ticker+\" percent change plot\");"
   ]
  },
  {
   "cell_type": "code",
   "execution_count": 32,
   "metadata": {},
   "outputs": [],
   "source": [
    "# Reorder stock_analyze_pc_df columns\n",
    "stocks_list_reordered = ['AAL', 'XOM', 'TSLA', 'GOOGL', 'SHOP', 'DJI', 'NDX']\n",
    "stock_analyze_pc_df = stock_analyze_pc_df[stocks_list_reordered]"
   ]
  },
  {
   "cell_type": "code",
   "execution_count": 33,
   "metadata": {},
   "outputs": [
    {
     "data": {
      "text/html": [
       "<div>\n",
       "<style scoped>\n",
       "    .dataframe tbody tr th:only-of-type {\n",
       "        vertical-align: middle;\n",
       "    }\n",
       "\n",
       "    .dataframe tbody tr th {\n",
       "        vertical-align: top;\n",
       "    }\n",
       "\n",
       "    .dataframe thead th {\n",
       "        text-align: right;\n",
       "    }\n",
       "</style>\n",
       "<table border=\"1\" class=\"dataframe\">\n",
       "  <thead>\n",
       "    <tr style=\"text-align: right;\">\n",
       "      <th></th>\n",
       "      <th>AAL</th>\n",
       "      <th>XOM</th>\n",
       "      <th>TSLA</th>\n",
       "      <th>GOOGL</th>\n",
       "      <th>SHOP</th>\n",
       "      <th>DJI</th>\n",
       "      <th>NDX</th>\n",
       "    </tr>\n",
       "    <tr>\n",
       "      <th>Date</th>\n",
       "      <th></th>\n",
       "      <th></th>\n",
       "      <th></th>\n",
       "      <th></th>\n",
       "      <th></th>\n",
       "      <th></th>\n",
       "      <th></th>\n",
       "    </tr>\n",
       "  </thead>\n",
       "  <tbody>\n",
       "    <tr>\n",
       "      <td>2016-01-04</td>\n",
       "      <td>NaN</td>\n",
       "      <td>NaN</td>\n",
       "      <td>NaN</td>\n",
       "      <td>NaN</td>\n",
       "      <td>NaN</td>\n",
       "      <td>NaN</td>\n",
       "      <td>NaN</td>\n",
       "    </tr>\n",
       "    <tr>\n",
       "      <td>2016-01-05</td>\n",
       "      <td>-0.009719</td>\n",
       "      <td>0.008455</td>\n",
       "      <td>0.00009</td>\n",
       "      <td>0.002752</td>\n",
       "      <td>-0.015941</td>\n",
       "      <td>0.000571</td>\n",
       "      <td>-0.003041</td>\n",
       "    </tr>\n",
       "  </tbody>\n",
       "</table>\n",
       "</div>"
      ],
      "text/plain": [
       "                 AAL       XOM     TSLA     GOOGL      SHOP       DJI  \\\n",
       "Date                                                                    \n",
       "2016-01-04       NaN       NaN      NaN       NaN       NaN       NaN   \n",
       "2016-01-05 -0.009719  0.008455  0.00009  0.002752 -0.015941  0.000571   \n",
       "\n",
       "                 NDX  \n",
       "Date                  \n",
       "2016-01-04       NaN  \n",
       "2016-01-05 -0.003041  "
      ]
     },
     "execution_count": 33,
     "metadata": {},
     "output_type": "execute_result"
    }
   ],
   "source": [
    "stock_analyze_pc_df.head(2)"
   ]
  },
  {
   "cell_type": "markdown",
   "metadata": {},
   "source": [
    "**Scenario construction**\n",
    "\n",
    "- Person A: Invests in AAL  \n",
    "- Person B: Invests in XOM  \n",
    "- Person C: Invests in TSLA  \n",
    "- Person D: Invests in GOOGL  \n",
    "- Person E: Invests in SHOP  \n",
    "- Person F: Invests in DJI  \n",
    "- Person G: Invests in NDX  \n",
    "\n",
    "F & G have invested in an index. This is equivalent to an ensemble average.\n",
    "\n",
    "Let's see how the investment turns out for them - given they start with $1000"
   ]
  },
  {
   "cell_type": "code",
   "execution_count": 34,
   "metadata": {},
   "outputs": [],
   "source": [
    "initial_amount = 1000\n",
    "leverage = 1\n",
    "\n",
    "# num of people\n",
    "p_N = len(stocks_list)"
   ]
  },
  {
   "cell_type": "code",
   "execution_count": 35,
   "metadata": {},
   "outputs": [
    {
     "name": "stdout",
     "output_type": "stream",
     "text": [
      "CPU times: user 172 ms, sys: 52.1 ms, total: 224 ms\n",
      "Wall time: 234 ms\n"
     ]
    }
   ],
   "source": [
    "%%time\n",
    "\n",
    "evt_data = {}\n",
    "gain_data = {}\n",
    "\n",
    "# generate data for every person\n",
    "for i in range(p_N):\n",
    "    # start with initial amount as leverage\n",
    "    person_gain = initial_amount\n",
    "    \n",
    "    # generate random events of gain / loss for N time steps\n",
    "    evts = stock_analyze_pc_df.iloc[1:,i]\n",
    "    \n",
    "    # temp state store for interim gains. Initialize it with the starting amount\n",
    "    gains = [person_gain]\n",
    "    \n",
    "    # calc gain progression\n",
    "    for e in evts:\n",
    "        person_gain = (person_gain * (1 - leverage)) + (person_gain * leverage * (1 + e))\n",
    "        gains.append(person_gain)\n",
    "\n",
    "        \n",
    "    # append gain data - events, gain progression, to a dictionary\n",
    "    evt_data[f\"p_evt_{i+1}\"] = evts\n",
    "    gain_data[f\"p_gain_{i+1}\"] = gains"
   ]
  },
  {
   "cell_type": "code",
   "execution_count": 36,
   "metadata": {},
   "outputs": [],
   "source": [
    "stock_gain_df = pd.DataFrame(gain_data)"
   ]
  },
  {
   "cell_type": "code",
   "execution_count": 37,
   "metadata": {},
   "outputs": [],
   "source": [
    "stock_gain_df.columns = [\"person \"+ x for x in stocks_list_reordered]"
   ]
  },
  {
   "cell_type": "code",
   "execution_count": 38,
   "metadata": {},
   "outputs": [
    {
     "data": {
      "text/html": [
       "<div>\n",
       "<style scoped>\n",
       "    .dataframe tbody tr th:only-of-type {\n",
       "        vertical-align: middle;\n",
       "    }\n",
       "\n",
       "    .dataframe tbody tr th {\n",
       "        vertical-align: top;\n",
       "    }\n",
       "\n",
       "    .dataframe thead th {\n",
       "        text-align: right;\n",
       "    }\n",
       "</style>\n",
       "<table border=\"1\" class=\"dataframe\">\n",
       "  <thead>\n",
       "    <tr style=\"text-align: right;\">\n",
       "      <th></th>\n",
       "      <th>person AAL</th>\n",
       "      <th>person XOM</th>\n",
       "      <th>person TSLA</th>\n",
       "      <th>person GOOGL</th>\n",
       "      <th>person SHOP</th>\n",
       "      <th>person DJI</th>\n",
       "      <th>person NDX</th>\n",
       "    </tr>\n",
       "  </thead>\n",
       "  <tbody>\n",
       "    <tr>\n",
       "      <td>0</td>\n",
       "      <td>1000.000000</td>\n",
       "      <td>1000.000000</td>\n",
       "      <td>1000.000000</td>\n",
       "      <td>1000.000000</td>\n",
       "      <td>1000.000000</td>\n",
       "      <td>1000.000000</td>\n",
       "      <td>1000.000000</td>\n",
       "    </tr>\n",
       "    <tr>\n",
       "      <td>1</td>\n",
       "      <td>990.281330</td>\n",
       "      <td>1008.454674</td>\n",
       "      <td>1000.089522</td>\n",
       "      <td>1002.752028</td>\n",
       "      <td>984.059098</td>\n",
       "      <td>1000.571465</td>\n",
       "      <td>996.958554</td>\n",
       "    </tr>\n",
       "    <tr>\n",
       "      <td>2</td>\n",
       "      <td>1007.672634</td>\n",
       "      <td>1000.156568</td>\n",
       "      <td>980.439551</td>\n",
       "      <td>999.855156</td>\n",
       "      <td>983.670295</td>\n",
       "      <td>985.864983</td>\n",
       "      <td>988.020970</td>\n",
       "    </tr>\n",
       "    <tr>\n",
       "      <td>3</td>\n",
       "      <td>988.746803</td>\n",
       "      <td>984.186629</td>\n",
       "      <td>965.265655</td>\n",
       "      <td>975.718951</td>\n",
       "      <td>959.175739</td>\n",
       "      <td>962.983048</td>\n",
       "      <td>957.281907</td>\n",
       "    </tr>\n",
       "    <tr>\n",
       "      <td>4</td>\n",
       "      <td>986.700767</td>\n",
       "      <td>964.302489</td>\n",
       "      <td>944.451905</td>\n",
       "      <td>962.432845</td>\n",
       "      <td>969.284603</td>\n",
       "      <td>953.209827</td>\n",
       "      <td>949.513769</td>\n",
       "    </tr>\n",
       "  </tbody>\n",
       "</table>\n",
       "</div>"
      ],
      "text/plain": [
       "    person AAL   person XOM  person TSLA  person GOOGL  person SHOP  \\\n",
       "0  1000.000000  1000.000000  1000.000000   1000.000000  1000.000000   \n",
       "1   990.281330  1008.454674  1000.089522   1002.752028   984.059098   \n",
       "2  1007.672634  1000.156568   980.439551    999.855156   983.670295   \n",
       "3   988.746803   984.186629   965.265655    975.718951   959.175739   \n",
       "4   986.700767   964.302489   944.451905    962.432845   969.284603   \n",
       "\n",
       "    person DJI   person NDX  \n",
       "0  1000.000000  1000.000000  \n",
       "1  1000.571465   996.958554  \n",
       "2   985.864983   988.020970  \n",
       "3   962.983048   957.281907  \n",
       "4   953.209827   949.513769  "
      ]
     },
     "execution_count": 38,
     "metadata": {},
     "output_type": "execute_result"
    }
   ],
   "source": [
    "stock_gain_df.head()"
   ]
  },
  {
   "cell_type": "code",
   "execution_count": 39,
   "metadata": {},
   "outputs": [
    {
     "data": {
      "text/html": [
       "<div>\n",
       "<style scoped>\n",
       "    .dataframe tbody tr th:only-of-type {\n",
       "        vertical-align: middle;\n",
       "    }\n",
       "\n",
       "    .dataframe tbody tr th {\n",
       "        vertical-align: top;\n",
       "    }\n",
       "\n",
       "    .dataframe thead th {\n",
       "        text-align: right;\n",
       "    }\n",
       "</style>\n",
       "<table border=\"1\" class=\"dataframe\">\n",
       "  <thead>\n",
       "    <tr style=\"text-align: right;\">\n",
       "      <th></th>\n",
       "      <th>person AAL</th>\n",
       "      <th>person XOM</th>\n",
       "      <th>person TSLA</th>\n",
       "      <th>person GOOGL</th>\n",
       "      <th>person SHOP</th>\n",
       "      <th>person DJI</th>\n",
       "      <th>person NDX</th>\n",
       "    </tr>\n",
       "  </thead>\n",
       "  <tbody>\n",
       "    <tr>\n",
       "      <td>1099</td>\n",
       "      <td>231.202046</td>\n",
       "      <td>657.585721</td>\n",
       "      <td>3577.145159</td>\n",
       "      <td>1807.990098</td>\n",
       "      <td>29821.150855</td>\n",
       "      <td>1381.161474</td>\n",
       "      <td>2034.887702</td>\n",
       "    </tr>\n",
       "    <tr>\n",
       "      <td>1100</td>\n",
       "      <td>252.429668</td>\n",
       "      <td>709.879443</td>\n",
       "      <td>3641.869209</td>\n",
       "      <td>1823.949226</td>\n",
       "      <td>28694.401244</td>\n",
       "      <td>1434.342728</td>\n",
       "      <td>2074.748881</td>\n",
       "    </tr>\n",
       "    <tr>\n",
       "      <td>1101</td>\n",
       "      <td>246.547315</td>\n",
       "      <td>687.959919</td>\n",
       "      <td>3616.713665</td>\n",
       "      <td>1809.754556</td>\n",
       "      <td>29277.216174</td>\n",
       "      <td>1411.571588</td>\n",
       "      <td>2067.325350</td>\n",
       "    </tr>\n",
       "    <tr>\n",
       "      <td>1102</td>\n",
       "      <td>252.429668</td>\n",
       "      <td>710.349147</td>\n",
       "      <td>3650.508035</td>\n",
       "      <td>1855.525124</td>\n",
       "      <td>30248.833593</td>\n",
       "      <td>1433.089003</td>\n",
       "      <td>2108.785067</td>\n",
       "    </tr>\n",
       "    <tr>\n",
       "      <td>1103</td>\n",
       "      <td>252.941176</td>\n",
       "      <td>697.667136</td>\n",
       "      <td>3704.399982</td>\n",
       "      <td>1852.351733</td>\n",
       "      <td>31195.567652</td>\n",
       "      <td>1427.152762</td>\n",
       "      <td>2084.989306</td>\n",
       "    </tr>\n",
       "  </tbody>\n",
       "</table>\n",
       "</div>"
      ],
      "text/plain": [
       "      person AAL  person XOM  person TSLA  person GOOGL   person SHOP  \\\n",
       "1099  231.202046  657.585721  3577.145159   1807.990098  29821.150855   \n",
       "1100  252.429668  709.879443  3641.869209   1823.949226  28694.401244   \n",
       "1101  246.547315  687.959919  3616.713665   1809.754556  29277.216174   \n",
       "1102  252.429668  710.349147  3650.508035   1855.525124  30248.833593   \n",
       "1103  252.941176  697.667136  3704.399982   1852.351733  31195.567652   \n",
       "\n",
       "       person DJI   person NDX  \n",
       "1099  1381.161474  2034.887702  \n",
       "1100  1434.342728  2074.748881  \n",
       "1101  1411.571588  2067.325350  \n",
       "1102  1433.089003  2108.785067  \n",
       "1103  1427.152762  2084.989306  "
      ]
     },
     "execution_count": 39,
     "metadata": {},
     "output_type": "execute_result"
    }
   ],
   "source": [
    "stock_gain_df.tail()"
   ]
  },
  {
   "cell_type": "code",
   "execution_count": 40,
   "metadata": {},
   "outputs": [
    {
     "data": {
      "text/plain": [
       "mean       5887.867107\n",
       "median     1852.351733\n",
       "min         252.941176\n",
       "max       31195.567652\n",
       "Name: 1103, dtype: float64"
      ]
     },
     "execution_count": 40,
     "metadata": {},
     "output_type": "execute_result"
    }
   ],
   "source": [
    "stock_gain_df.iloc[-1].agg([\"mean\", \"median\", \"min\", \"max\"])"
   ]
  },
  {
   "cell_type": "code",
   "execution_count": 41,
   "metadata": {},
   "outputs": [
    {
     "data": {
      "text/plain": [
       "<matplotlib.axes._subplots.AxesSubplot at 0x1a2bd27f98>"
      ]
     },
     "execution_count": 41,
     "metadata": {},
     "output_type": "execute_result"
    },
    {
     "data": {
      "image/png": "[encoded data removed]",
      "text/plain": [
       "<Figure size 432x288 with 1 Axes>"
      ]
     },
     "metadata": {
      "needs_background": "light"
     },
     "output_type": "display_data"
    }
   ],
   "source": [
    "stock_gain_df.iloc[-1].hist(bins=20)"
   ]
  },
  {
   "cell_type": "code",
   "execution_count": 42,
   "metadata": {},
   "outputs": [],
   "source": [
    "df_ens = pd.DataFrame()\n",
    "df_ens[\"ens_avg\"] = stock_gain_df.apply(np.mean, axis=1)\n",
    "df_ens[\"ens_med\"] = stock_gain_df.apply(np.median, axis=1)"
   ]
  },
  {
   "cell_type": "code",
   "execution_count": 43,
   "metadata": {},
   "outputs": [
    {
     "data": {
      "text/html": [
       "<div>\n",
       "<style scoped>\n",
       "    .dataframe tbody tr th:only-of-type {\n",
       "        vertical-align: middle;\n",
       "    }\n",
       "\n",
       "    .dataframe tbody tr th {\n",
       "        vertical-align: top;\n",
       "    }\n",
       "\n",
       "    .dataframe thead th {\n",
       "        text-align: right;\n",
       "    }\n",
       "</style>\n",
       "<table border=\"1\" class=\"dataframe\">\n",
       "  <thead>\n",
       "    <tr style=\"text-align: right;\">\n",
       "      <th></th>\n",
       "      <th>ens_avg</th>\n",
       "      <th>ens_med</th>\n",
       "    </tr>\n",
       "  </thead>\n",
       "  <tbody>\n",
       "    <tr>\n",
       "      <td>0</td>\n",
       "      <td>1000.000000</td>\n",
       "      <td>1000.000000</td>\n",
       "    </tr>\n",
       "    <tr>\n",
       "      <td>1</td>\n",
       "      <td>997.595239</td>\n",
       "      <td>1000.089522</td>\n",
       "    </tr>\n",
       "    <tr>\n",
       "      <td>2</td>\n",
       "      <td>992.240022</td>\n",
       "      <td>988.020970</td>\n",
       "    </tr>\n",
       "    <tr>\n",
       "      <td>3</td>\n",
       "      <td>970.479819</td>\n",
       "      <td>965.265655</td>\n",
       "    </tr>\n",
       "    <tr>\n",
       "      <td>4</td>\n",
       "      <td>961.413744</td>\n",
       "      <td>962.432845</td>\n",
       "    </tr>\n",
       "  </tbody>\n",
       "</table>\n",
       "</div>"
      ],
      "text/plain": [
       "       ens_avg      ens_med\n",
       "0  1000.000000  1000.000000\n",
       "1   997.595239  1000.089522\n",
       "2   992.240022   988.020970\n",
       "3   970.479819   965.265655\n",
       "4   961.413744   962.432845"
      ]
     },
     "execution_count": 43,
     "metadata": {},
     "output_type": "execute_result"
    }
   ],
   "source": [
    "df_ens.head()"
   ]
  },
  {
   "cell_type": "code",
   "execution_count": 44,
   "metadata": {},
   "outputs": [
    {
     "data": {
      "image/png": "[encoded data removed]",
      "text/plain": [
       "<Figure size 432x288 with 1 Axes>"
      ]
     },
     "metadata": {
      "needs_background": "light"
     },
     "output_type": "display_data"
    }
   ],
   "source": [
    "sns.lineplot(x=df_ens.index, y=df_ens[\"ens_avg\"], ).set_title(\"Average returns overall all individual investors\");"
   ]
  },
  {
   "cell_type": "code",
   "execution_count": 45,
   "metadata": {},
   "outputs": [
    {
     "data": {
      "image/png": "[encoded data removed]",
      "text/plain": [
       "<Figure size 432x288 with 1 Axes>"
      ]
     },
     "metadata": {
      "needs_background": "light"
     },
     "output_type": "display_data"
    }
   ],
   "source": [
    "sns.lineplot(x=stock_gain_df.index, y=stock_gain_df.iloc[:,0]).set_title(\"Invested in \" + stocks_list_reordered[0]);"
   ]
  },
  {
   "cell_type": "code",
   "execution_count": 46,
   "metadata": {},
   "outputs": [
    {
     "data": {
      "image/png": "[encoded data removed]",
      "text/plain": [
       "<Figure size 432x288 with 1 Axes>"
      ]
     },
     "metadata": {
      "needs_background": "light"
     },
     "output_type": "display_data"
    }
   ],
   "source": [
    "sns.lineplot(x=stock_gain_df.index, y=stock_gain_df.iloc[:,1]).set_title(\"Invested in \" + stocks_list_reordered[1]);"
   ]
  },
  {
   "cell_type": "code",
   "execution_count": 47,
   "metadata": {},
   "outputs": [
    {
     "data": {
      "image/png": "[encoded data removed]",
      "text/plain": [
       "<Figure size 432x288 with 1 Axes>"
      ]
     },
     "metadata": {
      "needs_background": "light"
     },
     "output_type": "display_data"
    }
   ],
   "source": [
    "sns.lineplot(x=stock_gain_df.index, y=stock_gain_df.iloc[:,2]).set_title(\"Invested in \" + stocks_list_reordered[2]);"
   ]
  },
  {
   "cell_type": "code",
   "execution_count": 48,
   "metadata": {},
   "outputs": [
    {
     "data": {
      "image/png": "[encoded data removed]",
      "text/plain": [
       "<Figure size 432x288 with 1 Axes>"
      ]
     },
     "metadata": {
      "needs_background": "light"
     },
     "output_type": "display_data"
    }
   ],
   "source": [
    "sns.lineplot(x=stock_gain_df.index, y=stock_gain_df.iloc[:,3]).set_title(\"Invested in \" + stocks_list_reordered[3]);"
   ]
  },
  {
   "cell_type": "code",
   "execution_count": 49,
   "metadata": {},
   "outputs": [
    {
     "data": {
      "image/png": "[encoded data removed]",
      "text/plain": [
       "<Figure size 432x288 with 1 Axes>"
      ]
     },
     "metadata": {
      "needs_background": "light"
     },
     "output_type": "display_data"
    }
   ],
   "source": [
    "sns.lineplot(x=stock_gain_df.index, y=stock_gain_df.iloc[:,4]).set_title(\"Invested in \" + stocks_list_reordered[4]);"
   ]
  },
  {
   "cell_type": "code",
   "execution_count": 50,
   "metadata": {},
   "outputs": [
    {
     "data": {
      "image/png": "[encoded data removed]",
      "text/plain": [
       "<Figure size 432x288 with 1 Axes>"
      ]
     },
     "metadata": {
      "needs_background": "light"
     },
     "output_type": "display_data"
    }
   ],
   "source": [
    "sns.lineplot(x=stock_gain_df.index, y=stock_gain_df.iloc[:,5]).set_title(\"Invested in \" + stocks_list_reordered[5]);"
   ]
  },
  {
   "cell_type": "code",
   "execution_count": 51,
   "metadata": {},
   "outputs": [
    {
     "data": {
      "image/png": "[encoded data removed]",
      "text/plain": [
       "<Figure size 432x288 with 1 Axes>"
      ]
     },
     "metadata": {
      "needs_background": "light"
     },
     "output_type": "display_data"
    }
   ],
   "source": [
    "sns.lineplot(x=stock_gain_df.index, y=stock_gain_df.iloc[:,6]).set_title(\"Invested in \" + stocks_list_reordered[6]);"
   ]
  },
  {
   "cell_type": "code",
   "execution_count": null,
   "metadata": {},
   "outputs": [],
   "source": []
  }
 ],
 "metadata": {
  "kernelspec": {
   "display_name": "Python 3",
   "language": "python",
   "name": "python3"
  },
  "language_info": {
   "codemirror_mode": {
    "name": "ipython",
    "version": 3
   },
   "file_extension": ".py",
   "mimetype": "text/x-python",
   "name": "python",
   "nbconvert_exporter": "python",
   "pygments_lexer": "ipython3",
   "version": "3.6.10"
  }
 },
 "nbformat": 4,
 "nbformat_minor": 4
}
